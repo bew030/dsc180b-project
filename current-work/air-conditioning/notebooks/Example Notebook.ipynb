{
 "cells": [
  {
   "cell_type": "markdown",
   "metadata": {},
   "source": [
    "This code imports the proper classes and methods from the src folder. To learn more about the code and the methods, please go to the src folder and read the documentation."
   ]
  },
  {
   "cell_type": "code",
   "execution_count": 1,
   "metadata": {},
   "outputs": [],
   "source": [
    "import os\n",
    "import sys\n",
    "module_path = os.path.abspath(os.path.join('..'))\n",
    "if module_path not in sys.path:\n",
    "    sys.path.append(module_path)\n",
    "    \n",
    "from src.passengerBusABM import *\n",
    "from src.timelapse import * \n",
    "from src.visualization import *"
   ]
  },
  {
   "cell_type": "markdown",
   "metadata": {},
   "source": [
    "# Introduction"
   ]
  },
  {
   "cell_type": "markdown",
   "metadata": {},
   "source": [
    "This code is the beginning of our process of simulating our research paper, is an observational study of COVID transmission within a bus travelling away from an event with COVID-19 carriers (https://jamanetwork.com/journals/jamainternalmedicine/fullarticle/2770172). We were able to create a bus environment with stagnant bus riders and stimulate respiratory actions over time."
   ]
  },
  {
   "cell_type": "markdown",
   "metadata": {},
   "source": [
    "# Creating the Agent Based Model"
   ]
  },
  {
   "cell_type": "markdown",
   "metadata": {},
   "source": [
    "There are a few parameters involving the passenger (AKA the agent) that can be modified. The probability of respiratory actions (breathing, coughing, and sneezing), the distance of other passengers being affected depending on the respiratory action, and the probability of infection can all be modified. \n",
    "\n",
    "The parameters involving the bus (AKA the environment) can also be modified. You can set the number of columns on the left side of the bus, middle of the bus (where passengers would walk to get to seats), right of the bus, number of rows, and distance between seats (in feet). You can also set the number of people that are initially infected. \n",
    "\n",
    "As of now, this is an incredibly naive simulation of airborne transmission within public transportation. The assumption being made is that someone that is infected will instantly be able to infect other people, which obviously isn't true. In the future, we're trying to implement a proper air conditioning simulation (which would effectively change the distance that passengers can be infected). Currently the distance of other passengers being affected is measured by radius, but we're aiming to simulate air pathways that will carry airborne particles certain distances in different ways. "
   ]
  },
  {
   "cell_type": "code",
   "execution_count": 2,
   "metadata": {},
   "outputs": [],
   "source": [
    "# Agent Parameters: \n",
    "# probabilities of respiratory actions (must add up to 1)\n",
    "breath_prob = 0.5\n",
    "cough_prob = 0.3\n",
    "sneeze_prob = 0.2\n",
    "\n",
    "# distance of other passengers being affected depending on respiratory action \n",
    "breath_dist = 1 \n",
    "cough_dist = 2 \n",
    "sneeze_dist = 6\n",
    "\n",
    "# probability of inction \n",
    "prob_infected = 0.05 \n",
    "\n",
    "#------------------------------------------------------------------------------\n",
    "# Environment Parameters: \n",
    "# Column Parameters \n",
    "num_col_left = 3 \n",
    "num_col_mid = 1 \n",
    "num_col_right = 2 \n",
    "\n",
    "# Row Parameter\n",
    "num_row = 15 \n",
    "\n",
    "# Distance between seats\n",
    "dist_bw_seats = 3 \n",
    "\n",
    "# number of people initially infected \n",
    "num_infected = 2 "
   ]
  },
  {
   "cell_type": "markdown",
   "metadata": {},
   "source": [
    "# Visualizing the Agent Based Model"
   ]
  },
  {
   "cell_type": "markdown",
   "metadata": {},
   "source": [
    "We can then create a naive agent based model based off of these parameters. There is no need to modify the first parameter (busAgent), since the agent will always be of class busAgent (although this may be changed in the future). "
   ]
  },
  {
   "cell_type": "code",
   "execution_count": 8,
   "metadata": {},
   "outputs": [],
   "source": [
    "nmodel = NaiveModel(busAgent, num_col_left, num_col_mid, num_col_right, num_row, dist_bw_seats, num_infected, \n",
    "                breath_prob, cough_prob, sneeze_prob, breath_dist, cough_dist, sneeze_dist, prob_infected)"
   ]
  },
  {
   "cell_type": "markdown",
   "metadata": {},
   "source": [
    "Although we have a model, this model isn't too helpful unless we can actually view it. There is a method called specific_step_model (which is located in src/visualization.py) that allows you to visualize the agent-environment at a certain step (which is defined as a respiratory action). "
   ]
  },
  {
   "cell_type": "code",
   "execution_count": 9,
   "metadata": {},
   "outputs": [],
   "source": [
    "# say we want to view the agent based model at the first step, which is step 0. \n",
    "step_num = 0"
   ]
  },
  {
   "cell_type": "code",
   "execution_count": 10,
   "metadata": {},
   "outputs": [
    {
     "data": {
      "image/png": "[encoded data removed]",
      "text/plain": [
       "<Figure size 432x288 with 1 Axes>"
      ]
     },
     "metadata": {
      "needs_background": "light"
     },
     "output_type": "display_data"
    }
   ],
   "source": [
    "specific_step_model(nmodel, step_num)"
   ]
  },
  {
   "cell_type": "markdown",
   "metadata": {},
   "source": [
    "We've also got a method that allows us to save multiple images of the steps over time. The visualize_step_model (which is located in src/visualization.py) allows you set a few parameters regarding the duration of the trip and breath consistency. It also allows you to modify the destination where the images will be stored."
   ]
  },
  {
   "cell_type": "code",
   "execution_count": 11,
   "metadata": {},
   "outputs": [],
   "source": [
    "# Trip Parameters: \n",
    "# number of \"breathes\" or respiratory actions per minute; 14 is the average \n",
    "breathes_per_min = 14\n",
    "\n",
    "# how long a trip is (in minutes)\n",
    "trip_duration = 2 \n",
    "\n",
    "#------------------------------------------------------------------------------\n",
    "# File Configuration Parameters: \n",
    "# The name of the folder that will hold all visualizations and images \n",
    "main_folder = \"data\"\n",
    "\n",
    "# the file path of the folder that will hold all the images of the simulation \n",
    "destination = \"data/raw/\""
   ]
  },
  {
   "cell_type": "code",
   "execution_count": 12,
   "metadata": {},
   "outputs": [],
   "source": [
    "visualize_step_model(nmodel, breathes_per_min, trip_duration, main_folder, destination)"
   ]
  },
  {
   "cell_type": "markdown",
   "metadata": {},
   "source": [
    "As a final visualization, we create a timelapse of the entire trip. The timelapse_step_model (which is located in src/timelapse.py) outputs a .gif of the entire trip, which is saved in the user's destination of choice. "
   ]
  },
  {
   "cell_type": "code",
   "execution_count": 13,
   "metadata": {},
   "outputs": [],
   "source": [
    "# Parameters:\n",
    "# Where the images are located; should be the same as the destination parameter in visualize_step_model\n",
    "input_source = \"data/raw/\"\n",
    "\n",
    "# where the .gif will be saved \n",
    "output_source = \"data/timelapse/\""
   ]
  },
  {
   "cell_type": "code",
   "execution_count": 14,
   "metadata": {},
   "outputs": [],
   "source": [
    "timelapse_step_model(input_source, output_source)"
   ]
  }
 ],
 "metadata": {
  "kernelspec": {
   "display_name": "Python 3",
   "language": "python",
   "name": "python3"
  },
  "language_info": {
   "codemirror_mode": {
    "name": "ipython",
    "version": 3
   },
   "file_extension": ".py",
   "mimetype": "text/x-python",
   "name": "python",
   "nbconvert_exporter": "python",
   "pygments_lexer": "ipython3",
   "version": "3.7.6"
  }
 },
 "nbformat": 4,
 "nbformat_minor": 4
}
